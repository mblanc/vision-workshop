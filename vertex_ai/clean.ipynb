{
 "cells": [
  {
   "cell_type": "markdown",
   "id": "52ec1ff2-5f77-4ba5-b981-419da407ef48",
   "metadata": {},
   "source": [
    "## (DO NOT RUN) Cleaning up\n",
    "\n",
    "To clean up all Google Cloud resources used in this project, you can [delete the Google Cloud\n",
    "project](https://cloud.google.com/resource-manager/docs/creating-managing-projects#shutting_down_projects) you used for the tutorial.\n",
    "\n",
    "Otherwise, you can delete the individual resources you created in this tutorial:\n",
    "\n"
   ]
  },
  {
   "cell_type": "code",
   "execution_count": 1,
   "id": "36485769-a994-4484-be4b-84139d2ad70f",
   "metadata": {},
   "outputs": [
    {
     "name": "stdout",
     "output_type": "stream",
     "text": [
      "\n",
      "BUCKET_NAME          = \"temp-vision-workshop-vision-workshop\"\n",
      "PROJECT              = \"temp-vision-workshop\"\n",
      "REGION               = \"europe-west4\"\n",
      "ID                   = \"czz5y\"\n",
      "MODEL_NAME           = \"vision_workshop_model\"\n",
      "ENDPOINT_NAME        = \"vision_workshop_endpoint\"\n",
      "\n"
     ]
    }
   ],
   "source": [
    "GCP_PROJECTS = !gcloud config get-value project\n",
    "PROJECT_ID = GCP_PROJECTS[0]\n",
    "BUCKET_NAME = f\"{PROJECT_ID}-vision-workshop\"\n",
    "config = !gsutil cat gs://{BUCKET_NAME}/config/notebook_env.py\n",
    "print(config.n)\n",
    "exec(config.n)"
   ]
  },
  {
   "cell_type": "code",
   "execution_count": 2,
   "id": "0f729110-795a-4a4d-83e0-1f0bf315527a",
   "metadata": {},
   "outputs": [],
   "source": [
    "from google.cloud import aiplatform as vertex_ai\n",
    "\n",
    "\n",
    "vertex_ai.init(project=PROJECT_ID, location=REGION, staging_bucket=BUCKET_NAME)"
   ]
  },
  {
   "cell_type": "code",
   "execution_count": null,
   "id": "f4900a26-96cc-40da-bd92-6ec1a49c0ba6",
   "metadata": {},
   "outputs": [],
   "source": [
    "endpoints = vertex_ai.Endpoint.list()"
   ]
  },
  {
   "cell_type": "code",
   "execution_count": null,
   "id": "aa616e77-9d35-499c-b38c-eecf82448760",
   "metadata": {},
   "outputs": [],
   "source": [
    "endpoints"
   ]
  },
  {
   "cell_type": "code",
   "execution_count": null,
   "id": "5ca19b21-1938-4752-9e5a-6d117e96220a",
   "metadata": {},
   "outputs": [],
   "source": [
    "for endpoint in endpoints:\n",
    "    models = endpoint.list_models()\n",
    "    for model in models:\n",
    "        endpoint.undeploy(model.id)\n",
    "        print(f'undeployed {model.id}')\n",
    "    vertex_ai.Endpoint.delete(endpoint)"
   ]
  },
  {
   "cell_type": "code",
   "execution_count": null,
   "id": "33514b75-af26-4be5-b0c3-e6e45dc26a88",
   "metadata": {},
   "outputs": [],
   "source": [
    "models = vertex_ai.Model.list()\n",
    "models"
   ]
  },
  {
   "cell_type": "code",
   "execution_count": null,
   "id": "25cf4d15-48bf-4f15-a134-8a9ee7fb7b12",
   "metadata": {},
   "outputs": [],
   "source": [
    "for model in models:\n",
    "    vertex_ai.Model.delete(model)"
   ]
  },
  {
   "cell_type": "code",
   "execution_count": null,
   "id": "7a7cc1f2-1386-4f0d-b26b-56fc5e4b10c5",
   "metadata": {},
   "outputs": [],
   "source": [
    "pipelines = vertex_ai.PipelineJob.list()"
   ]
  },
  {
   "cell_type": "code",
   "execution_count": null,
   "id": "bd80c2f0-5d7e-4020-a366-8cbce217ff96",
   "metadata": {},
   "outputs": [],
   "source": [
    "pipelines"
   ]
  },
  {
   "cell_type": "code",
   "execution_count": null,
   "id": "0d5169a8-faa8-4f5f-8729-6799f9d7db2c",
   "metadata": {},
   "outputs": [],
   "source": [
    "jobs = vertex_ai.CustomTrainingJob.list()"
   ]
  },
  {
   "cell_type": "code",
   "execution_count": null,
   "id": "71fa7013-6542-44ad-8858-fe5a8066b3b6",
   "metadata": {},
   "outputs": [],
   "source": [
    "for job in jobs:\n",
    "    vertex_ai.CustomTrainingJob.delete(job)"
   ]
  },
  {
   "cell_type": "code",
   "execution_count": null,
   "id": "a93fa754-9b94-41da-be5e-85121b99d60c",
   "metadata": {},
   "outputs": [],
   "source": [
    "jobs = vertex_ai.CustomJob.list()"
   ]
  },
  {
   "cell_type": "code",
   "execution_count": null,
   "id": "32f27a8f-930a-40af-bd65-c8d638b7d3f2",
   "metadata": {},
   "outputs": [],
   "source": [
    "for job in jobs:\n",
    "    vertex_ai.CustomTrainingJob.delete(job)"
   ]
  },
  {
   "cell_type": "code",
   "execution_count": null,
   "id": "1c0cfe5d-340b-44be-82b7-d95b31affa7d",
   "metadata": {},
   "outputs": [],
   "source": [
    "experiments = vertex_ai.Experiment.list()\n",
    "experiments"
   ]
  },
  {
   "cell_type": "code",
   "execution_count": null,
   "id": "1624cc5a-31ee-411d-b83f-35ca780b43e3",
   "metadata": {},
   "outputs": [],
   "source": [
    "for experiment in experiments:\n",
    "    vertex_ai.Experiment.delete(experiment)"
   ]
  },
  {
   "cell_type": "code",
   "execution_count": null,
   "id": "2a553756-f8c4-4779-8a72-3c22bc486b6f",
   "metadata": {},
   "outputs": [],
   "source": [
    "image_datasets = vertex_ai.ImageDataset.list()\n",
    "image_datasets"
   ]
  },
  {
   "cell_type": "code",
   "execution_count": null,
   "id": "30a21d52-1c19-46b2-a53c-98391ee7dd51",
   "metadata": {},
   "outputs": [],
   "source": [
    "for image_dataset in image_datasets:\n",
    "    vertex_ai.ImageDataset.delete(image_dataset)"
   ]
  }
 ],
 "metadata": {
  "environment": {
   "kernel": "python3",
   "name": "tf2-gpu.2-8.m99",
   "type": "gcloud",
   "uri": "gcr.io/deeplearning-platform-release/tf2-gpu.2-8:m99"
  },
  "kernelspec": {
   "display_name": "Python 3",
   "language": "python",
   "name": "python3"
  },
  "language_info": {
   "codemirror_mode": {
    "name": "ipython",
    "version": 3
   },
   "file_extension": ".py",
   "mimetype": "text/x-python",
   "name": "python",
   "nbconvert_exporter": "python",
   "pygments_lexer": "ipython3",
   "version": "3.7.12"
  }
 },
 "nbformat": 4,
 "nbformat_minor": 5
}
