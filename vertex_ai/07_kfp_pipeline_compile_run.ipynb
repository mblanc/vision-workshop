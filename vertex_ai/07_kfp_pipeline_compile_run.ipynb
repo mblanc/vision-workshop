{
 "cells": [
  {
   "cell_type": "code",
   "execution_count": null,
   "id": "0d9d4a4c-923d-4505-94d7-bc0b20e5fb12",
   "metadata": {
    "id": "ur8xi4C7S06n"
   },
   "outputs": [],
   "source": [
    "# Copyright 2022 Google LLC\n",
    "#\n",
    "# Licensed under the Apache License, Version 2.0 (the \"License\");\n",
    "# you may not use this file except in compliance with the License.\n",
    "# You may obtain a copy of the License at\n",
    "#\n",
    "#     https://www.apache.org/licenses/LICENSE-2.0\n",
    "#\n",
    "# Unless required by applicable law or agreed to in writing, software\n",
    "# distributed under the License is distributed on an \"AS IS\" BASIS,\n",
    "# WITHOUT WARRANTIES OR CONDITIONS OF ANY KIND, either express or implied.\n",
    "# See the License for the specific language governing permissions and\n",
    "# limitations under the License."
   ]
  },
  {
   "cell_type": "markdown",
   "id": "bdcc1be1-a31c-4f27-82a2-0f5856b7850a",
   "metadata": {
    "id": "JAPoU8Sm5E6e"
   },
   "source": [
    "# KFP Pipeline Compile and Run\n",
    "\n",
    "<table align=\"left\">\n",
    "  <td>\n",
    "    <a href=\"https://console.cloud.google.com/ai-platform/notebooks/deploy-notebook?download_url=https://github.com/GoogleCloudPlatform/fraudfinder/raw/main/06_model_training_pipeline.ipynb\">\n",
    "       <img src=\"https://www.gstatic.com/cloud/images/navigation/vertex-ai.svg\" alt=\"Google Cloud Notebooks\">Open in Cloud Notebook\n",
    "    </a>\n",
    "  </td> \n",
    "  <td>\n",
    "    <a href=\"https://colab.research.google.com/github/GoogleCloudPlatform/fraudfinder/blob/main/06_model_training_pipeline.ipynb\">\n",
    "      <img src=\"https://cloud.google.com/ml-engine/images/colab-logo-32px.png\" alt=\"Colab logo\"> Open in Colab\n",
    "    </a>\n",
    "  </td>\n",
    "  <td>\n",
    "    <a href=\"https://github.com/GoogleCloudPlatform/fraudfinder/blob/main/06_model_training_pipeline.ipynb\">\n",
    "        <img src=\"https://cloud.google.com/ml-engine/images/github-logo-32px.png\" alt=\"GitHub logo\">\n",
    "      View on GitHub\n",
    "    </a>\n",
    "  </td>\n",
    "</table>"
   ]
  },
  {
   "cell_type": "markdown",
   "id": "23fad869-3dbf-4ad1-a6d4-f2ee3e968d2f",
   "metadata": {
    "id": "tvgnzT1CKxrO",
    "tags": []
   },
   "source": [
    "## Overview\n",
    "\n",
    "[Fraudfinder](https://github.com/googlecloudplatform/fraudfinder) is a series of labs on how to build a real-time fraud detection system on Google Cloud. Throughout the Fraudfinder labs, you will run the Kubeflow Pipeline as a modular compononets. The main purpose of this notebook is testing the pipeline as code. You can skip this notebook if you sure the pipeline code works properly."
   ]
  },
  {
   "cell_type": "markdown",
   "id": "4f4c08bd-0c27-4985-b084-72065aa72fd1",
   "metadata": {},
   "source": [
    "### Objective\n",
    "\n",
    "This notebook shows how to compile and run modular components of a pipeline. You need the modular compononet, to be used in MLOPS process. \n",
    "\n",
    "This lab uses the following Google Cloud services and resources:\n",
    "\n",
    "- [Vertex AI](https://cloud.google.com/vertex-ai/)\n",
    "- [BigQuery](https://cloud.google.com/bigquery/)\n",
    "\n",
    "Steps performed in this notebook:\n",
    "\n",
    "    * Compile the KFP Pipeline\n",
    "    * Run the KFP Pipeline"
   ]
  },
  {
   "cell_type": "markdown",
   "id": "b1682196-c37c-4b9f-be79-9e9ca976d817",
   "metadata": {},
   "source": [
    "### Costs"
   ]
  },
  {
   "cell_type": "markdown",
   "id": "f054bb51-a708-42ae-befe-9135e2537894",
   "metadata": {},
   "source": [
    "This tutorial uses billable components of Google Cloud:\n",
    "\n",
    "* Vertex AI\n",
    "* BigQuery\n",
    "\n",
    "Learn about [Vertex AI\n",
    "pricing](https://cloud.google.com/vertex-ai/pricing), [BigQuery pricing](https://cloud.google.com/bigquery/pricing) and use the [Pricing\n",
    "Calculator](https://cloud.google.com/products/calculator/)\n",
    "to generate a cost estimate based on your projected usage."
   ]
  },
  {
   "cell_type": "markdown",
   "id": "be2e5f8b-9879-4c19-9b98-f369de8c1335",
   "metadata": {},
   "source": [
    "### Load configuration settings from the setup notebook\n",
    "\n",
    "Set the constants used in this notebook and load the config settings from the `00_environment_setup.ipynb` notebook."
   ]
  },
  {
   "cell_type": "code",
   "execution_count": 1,
   "id": "9fb9ddec-51fd-44f8-b200-4d17a08800ff",
   "metadata": {},
   "outputs": [
    {
     "name": "stdout",
     "output_type": "stream",
     "text": [
      "\n",
      "BUCKET_NAME          = \"temp-vision-workshop-vision-workshop\"\n",
      "PROJECT              = \"temp-vision-workshop\"\n",
      "REGION               = \"europe-west4\"\n",
      "ID                   = \"7l3oe\"\n",
      "MODEL_NAME           = \"vision_workshop_model\"\n",
      "ENDPOINT_NAME        = \"vision_workshop_endpoint\"\n",
      "\n"
     ]
    }
   ],
   "source": [
    "GCP_PROJECTS = !gcloud config get-value project\n",
    "PROJECT_ID = GCP_PROJECTS[0]\n",
    "BUCKET_NAME = f\"{PROJECT_ID}-vision-workshop\"\n",
    "config = !gsutil cat gs://{BUCKET_NAME}/config/notebook_env.py\n",
    "print(config.n)\n",
    "exec(config.n)"
   ]
  },
  {
   "cell_type": "markdown",
   "id": "46dfc18f-14cc-406a-b352-fb8cfdbfd387",
   "metadata": {
    "id": "XoEqT2Y4DJmf",
    "tags": []
   },
   "source": [
    "### Import libraries and define constants"
   ]
  },
  {
   "cell_type": "markdown",
   "id": "a86e0786-4cf7-4967-a88f-55ab302e3660",
   "metadata": {},
   "source": [
    "#### Libraries"
   ]
  },
  {
   "cell_type": "code",
   "execution_count": 6,
   "id": "58ac8d3f-5ea7-45e2-add9-fc63e7b03d9c",
   "metadata": {
    "id": "oM1iC_MfAts1"
   },
   "outputs": [],
   "source": [
    "import os\n",
    "import random\n",
    "from datetime import datetime"
   ]
  },
  {
   "cell_type": "code",
   "execution_count": 7,
   "id": "ddddc45b-3d7e-427c-b2e7-65a3b07c1ca1",
   "metadata": {},
   "outputs": [],
   "source": [
    "PIPELINE_NAME = f'vision-workshop-tf-pipeline-{ID}'\n",
    "\n",
    "os.environ[\"PROJECT_ID\"] = PROJECT_ID"
   ]
  },
  {
   "cell_type": "markdown",
   "id": "0377ccc3-8f1f-47ce-8b46-57c29270c69d",
   "metadata": {},
   "source": [
    "## Compile your pipeline into a JSON file\n",
    "\n",
    "Please check the `deploy_kfp_pipeline` directory. We already have added the code for building the pipline and its's components in the `pipeine` directory. Please feel free to change it.\n",
    "\n",
    "After the workflow of your pipeline is defined, you can proceed to compile the pipeline into a JSON format. The JSON file will include all the information for executing your pipeline on Vertex AI Pipelines."
   ]
  },
  {
   "cell_type": "code",
   "execution_count": 8,
   "id": "b3b308e0-8ce8-4205-8152-7a11ddeb3e7f",
   "metadata": {},
   "outputs": [
    {
     "name": "stdout",
     "output_type": "stream",
     "text": [
      "kfp version: 1.8.14\n",
      "pipeline definition path: ./pipelines/vision-workshop-tf-pipeline-7l3oe.json\n",
      "pipeline name: vision-workshop-tf-pipeline-7l3oe\n",
      "/home/jupyter/.local/lib/python3.7/site-packages/kfp/v2/compiler/compiler.py:1293: FutureWarning: APIs imported from the v1 namespace (e.g. kfp.dsl, kfp.components, etc) will not be supported by the v2 compiler since v2.0.0\n",
      "  category=FutureWarning,\n"
     ]
    }
   ],
   "source": [
    "!python deploy_kfp_pipeline/pipeline_compile.py  --pipeline-name=$PIPELINE_NAME"
   ]
  },
  {
   "cell_type": "markdown",
   "id": "75eca42c-a9a9-4f80-be42-da894065e298",
   "metadata": {
    "tags": []
   },
   "source": [
    "## Submit your pipeline run\n",
    "Once the workflow of your pipeline is compiled into the JSON format, you can use the Vertex AI Python client to submit and run your pipeline."
   ]
  },
  {
   "cell_type": "code",
   "execution_count": 5,
   "id": "5f8c72bc-0ab8-47d9-ab6a-447051820463",
   "metadata": {},
   "outputs": [
    {
     "name": "stdout",
     "output_type": "stream",
     "text": [
      "Pipeline Root: gs://temp-vision-workshop-vision-workshop/pipelines\n",
      "REGION:europe-west4\n",
      "/home/jupyter/.local/lib/python3.7/site-packages/kfp/v2/google/client/client.py:173: FutureWarning: AIPlatformClient will be deprecated in v2.0.0. Please use PipelineJob https://googleapis.dev/python/aiplatform/latest/_modules/google/cloud/aiplatform/pipeline_jobs.html in Vertex SDK. Install the SDK using \"pip install google-cloud-aiplatform\"\n",
      "  category=FutureWarning,\n",
      "See the Pipeline job here: https://console.cloud.google.com/vertex-ai/locations/europe-west4/pipelines/runs/vision-workshop-tf-pipeline-7l3oe-20221118133715?project=temp-vision-workshop\n",
      "{'name': 'projects/446303513828/locations/europe-west4/pipelineJobs/vision-workshop-tf-pipeline-7l3oe-20221118133715', 'displayName': 'vision-workshop-tf-pipeline-7l3oe-20221118133715', 'createTime': '2022-11-18T13:37:15.801180Z', 'updateTime': '2022-11-18T13:37:15.801180Z', 'pipelineSpec': {'deploymentConfig': {'@type': 'type.googleapis.com/ml_pipelines.PipelineDeploymentConfig', 'executors': {'exec-customcontainertrainingjob-run': {'container': {'image': 'gcr.io/ml-pipeline/google-cloud-pipeline-components:1.0.26', 'command': ['python3', '-m', 'google_cloud_pipeline_components.container.aiplatform.remote_runner', '--cls_name', 'CustomContainerTrainingJob', '--method_name', 'run'], 'args': ['--init.display_name', 'image-classifier-train-tf-7l3oe', '--init.container_uri', 'europe-west4-docker.pkg.dev/temp-vision-workshop/vision-7l3oe/image-classifier:v1', '--init.model_serving_container_image_uri', 'europe-docker.pkg.dev/vertex-ai/prediction/tf2-cpu.2-8:latest', '--method.model_display_name', 'image-classifier-tf-7l3oe', '--method.accelerator_type', 'NVIDIA_TESLA_T4', '--method.accelerator_count', '1', '--executor_input', '{{$}}', '--resource_name_output_artifact_uri', \"{{$.outputs.artifacts['model'].uri}}\", '--init.staging_bucket', \"{{$.inputs.parameters['staging_bucket']}}\", '--method.dataset', \"{{$.inputs.artifacts['dataset'].metadata['resourceName']}}\", '--method.base_output_dir', \"{{$.inputs.parameters['base_output_dir']}}\", '--method.args', \"{{$.inputs.parameters['args']}}\", '--method.replica_count', \"{{$.inputs.parameters['replica_count']}}\", '--method.machine_type', \"{{$.inputs.parameters['machine_type']}}\", '--init.project', \"{{$.inputs.parameters['project']}}\", '--init.location', \"{{$.inputs.parameters['location']}}\"]}}, 'exec-endpoint-create': {'container': {'image': 'gcr.io/ml-pipeline/google-cloud-pipeline-components:1.0.26', 'command': ['python3', '-u', '-m', 'google_cloud_pipeline_components.container.v1.endpoint.create_endpoint.launcher'], 'args': ['--type', 'CreateEndpoint', '--payload', '{\"display_name\": \"{{$.inputs.parameters[\\'display_name\\']}}\", \"description\": \"{{$.inputs.parameters[\\'description\\']}}\", \"labels\": {{$.inputs.parameters[\\'labels\\']}}, \"encryption_spec\": {\"kms_key_name\":\"{{$.inputs.parameters[\\'encryption_spec_key_name\\']}}\"}, \"network\": \"{{$.inputs.parameters[\\'network\\']}}\"}', '--project', \"{{$.inputs.parameters['project']}}\", '--location', \"{{$.inputs.parameters['location']}}\", '--gcp_resources', \"{{$.outputs.parameters['gcp_resources'].output_file}}\", '--executor_input', '{{$}}']}}, 'exec-image-dataset-create': {'container': {'image': 'gcr.io/ml-pipeline/google-cloud-pipeline-components:1.0.26', 'command': ['python3', '-m', 'google_cloud_pipeline_components.container.aiplatform.remote_runner', '--cls_name', 'ImageDataset', '--method_name', 'create'], 'args': ['--method.project', \"{{$.inputs.parameters['project']}}\", '--method.location', \"{{$.inputs.parameters['location']}}\", '--method.display_name', \"{{$.inputs.parameters['display_name']}}\", '--method.data_item_labels', \"{{$.inputs.parameters['data_item_labels']}}\", '--method.gcs_source', \"{{$.inputs.parameters['gcs_source']}}\", '--method.import_schema_uri', \"{{$.inputs.parameters['import_schema_uri']}}\", '--method.labels', \"{{$.inputs.parameters['labels']}}\", '--executor_input', '{{$}}', '--resource_name_output_artifact_uri', \"{{$.outputs.artifacts['dataset'].uri}}\"]}}, 'exec-model-batch-predict': {'container': {'image': 'gcr.io/ml-pipeline/google-cloud-pipeline-components:1.0.26', 'command': ['python3', '-u', '-m', 'google_cloud_pipeline_components.container.v1.batch_prediction_job.launcher'], 'args': ['--type', 'BatchPredictionJob', '--payload', '{\"display_name\": \"{{$.inputs.parameters[\\'job_display_name\\']}}\", \"model\": \"{{$.inputs.artifacts[\\'model\\'].metadata[\\'resourceName\\']}}\", \"input_config\": {\"instances_format\": \"{{$.inputs.parameters[\\'instances_format\\']}}\", \"gcs_source\": {\"uris\":{{$.inputs.parameters[\\'gcs_source_uris\\']}}}, \"bigquery_source\": {\"input_uri\": \"{{$.inputs.parameters[\\'bigquery_source_input_uri\\']}}\"}}, \"model_parameters\": {{$.inputs.parameters[\\'model_parameters\\']}}, \"output_config\": {\"predictions_format\": \"{{$.inputs.parameters[\\'predictions_format\\']}}\", \"gcs_destination\": {\"output_uri_prefix\": \"{{$.inputs.parameters[\\'gcs_destination_output_uri_prefix\\']}}\"}, \"bigquery_destination\": {\"output_uri\": \"{{$.inputs.parameters[\\'bigquery_destination_output_uri\\']}}\"}}, \"dedicated_resources\": {\"machine_spec\": {\"machine_type\": \"{{$.inputs.parameters[\\'machine_type\\']}}\", \"accelerator_type\": \"{{$.inputs.parameters[\\'accelerator_type\\']}}\", \"accelerator_count\": {{$.inputs.parameters[\\'accelerator_count\\']}}}, \"starting_replica_count\": {{$.inputs.parameters[\\'starting_replica_count\\']}}, \"max_replica_count\": {{$.inputs.parameters[\\'max_replica_count\\']}}}, \"manual_batch_tuning_parameters\": {\"batch_size\": {{$.inputs.parameters[\\'manual_batch_tuning_parameters_batch_size\\']}}}, \"generate_explanation\": {{$.inputs.parameters[\\'generate_explanation\\']}}, \"explanation_spec\": {\"parameters\": {{$.inputs.parameters[\\'explanation_parameters\\']}}, \"metadata\": {{$.inputs.parameters[\\'explanation_metadata\\']}}}, \"labels\": {{$.inputs.parameters[\\'labels\\']}}, \"encryption_spec\": {\"kms_key_name\":\"{{$.inputs.parameters[\\'encryption_spec_key_name\\']}}\"}}', '--project', \"{{$.inputs.parameters['project']}}\", '--location', \"{{$.inputs.parameters['location']}}\", '--gcp_resources', \"{{$.outputs.parameters['gcp_resources'].output_file}}\", '--executor_input', '{{$}}']}}, 'exec-model-deploy': {'container': {'image': 'gcr.io/ml-pipeline/google-cloud-pipeline-components:1.0.26', 'command': ['python3', '-u', '-m', 'google_cloud_pipeline_components.container.v1.endpoint.deploy_model.launcher'], 'args': ['--type', 'DeployModel', '--payload', '{\"endpoint\": \"{{$.inputs.artifacts[\\'endpoint\\'].metadata[\\'resourceName\\']}}\", \"traffic_split\": {{$.inputs.parameters[\\'traffic_split\\']}}, \"deployed_model\": {\"model\": \"{{$.inputs.artifacts[\\'model\\'].metadata[\\'resourceName\\']}}\", \"dedicated_resources\": {\"machine_spec\": {\"machine_type\": \"{{$.inputs.parameters[\\'dedicated_resources_machine_type\\']}}\", \"accelerator_type\": \"{{$.inputs.parameters[\\'dedicated_resources_accelerator_type\\']}}\", \"accelerator_count\": {{$.inputs.parameters[\\'dedicated_resources_accelerator_count\\']}}}, \"min_replica_count\": {{$.inputs.parameters[\\'dedicated_resources_min_replica_count\\']}}, \"max_replica_count\": {{$.inputs.parameters[\\'dedicated_resources_max_replica_count\\']}}}, \"automatic_resources\": {\"min_replica_count\": {{$.inputs.parameters[\\'automatic_resources_min_replica_count\\']}}, \"max_replica_count\": {{$.inputs.parameters[\\'automatic_resources_max_replica_count\\']}}}, \"service_account\": \"{{$.inputs.parameters[\\'service_account\\']}}\", \"disable_container_logging\": {{$.inputs.parameters[\\'disable_container_logging\\']}}, \"enable_access_logging\": {{$.inputs.parameters[\\'enable_access_logging\\']}}, \"explanation_spec\": {\"parameters\": {{$.inputs.parameters[\\'explanation_parameters\\']}}, \"metadata\": {{$.inputs.parameters[\\'explanation_metadata\\']}}}}}', '--project', '', '--location', '', '--gcp_resources', \"{{$.outputs.parameters['gcp_resources'].output_file}}\"]}}}}, 'components': {'comp-customcontainertrainingjob-run': {'inputDefinitions': {'artifacts': {'dataset': {'artifactType': {'schemaTitle': 'google.VertexDataset', 'schemaVersion': '0.0.1'}}}, 'parameters': {'args': {'type': 'STRING'}, 'base_output_dir': {'type': 'STRING'}, 'location': {'type': 'STRING'}, 'machine_type': {'type': 'STRING'}, 'project': {'type': 'STRING'}, 'replica_count': {'type': 'INT'}, 'staging_bucket': {'type': 'STRING'}}}, 'outputDefinitions': {'artifacts': {'model': {'artifactType': {'schemaTitle': 'google.VertexModel', 'schemaVersion': '0.0.1'}}}}, 'executorLabel': 'exec-customcontainertrainingjob-run'}, 'comp-endpoint-create': {'inputDefinitions': {'parameters': {'description': {'type': 'STRING'}, 'display_name': {'type': 'STRING'}, 'encryption_spec_key_name': {'type': 'STRING'}, 'labels': {'type': 'STRING'}, 'location': {'type': 'STRING'}, 'network': {'type': 'STRING'}, 'project': {'type': 'STRING'}}}, 'outputDefinitions': {'artifacts': {'endpoint': {'artifactType': {'schemaTitle': 'google.VertexEndpoint', 'schemaVersion': '0.0.1'}}}, 'parameters': {'gcp_resources': {'type': 'STRING'}}}, 'executorLabel': 'exec-endpoint-create'}, 'comp-image-dataset-create': {'inputDefinitions': {'parameters': {'data_item_labels': {'type': 'STRING'}, 'display_name': {'type': 'STRING'}, 'gcs_source': {'type': 'STRING'}, 'import_schema_uri': {'type': 'STRING'}, 'labels': {'type': 'STRING'}, 'location': {'type': 'STRING'}, 'project': {'type': 'STRING'}}}, 'outputDefinitions': {'artifacts': {'dataset': {'artifactType': {'schemaTitle': 'google.VertexDataset', 'schemaVersion': '0.0.1'}}}}, 'executorLabel': 'exec-image-dataset-create'}, 'comp-model-batch-predict': {'inputDefinitions': {'artifacts': {'model': {'artifactType': {'schemaTitle': 'google.VertexModel', 'schemaVersion': '0.0.1'}}}, 'parameters': {'accelerator_count': {'type': 'INT'}, 'accelerator_type': {'type': 'STRING'}, 'bigquery_destination_output_uri': {'type': 'STRING'}, 'bigquery_source_input_uri': {'type': 'STRING'}, 'encryption_spec_key_name': {'type': 'STRING'}, 'explanation_metadata': {'type': 'STRING'}, 'explanation_parameters': {'type': 'STRING'}, 'gcs_destination_output_uri_prefix': {'type': 'STRING'}, 'gcs_source_uris': {'type': 'STRING'}, 'generate_explanation': {'type': 'STRING'}, 'instances_format': {'type': 'STRING'}, 'job_display_name': {'type': 'STRING'}, 'labels': {'type': 'STRING'}, 'location': {'type': 'STRING'}, 'machine_type': {'type': 'STRING'}, 'manual_batch_tuning_parameters_batch_size': {'type': 'INT'}, 'max_replica_count': {'type': 'INT'}, 'model_parameters': {'type': 'STRING'}, 'predictions_format': {'type': 'STRING'}, 'project': {'type': 'STRING'}, 'starting_replica_count': {'type': 'INT'}}}, 'outputDefinitions': {'artifacts': {'batchpredictionjob': {'artifactType': {'schemaTitle': 'google.VertexBatchPredictionJob', 'schemaVersion': '0.0.1'}}, 'bigquery_output_table': {'artifactType': {'schemaTitle': 'google.BQTable', 'schemaVersion': '0.0.1'}}, 'gcs_output_directory': {'artifactType': {'schemaTitle': 'system.Artifact', 'schemaVersion': '0.0.1'}}}, 'parameters': {'gcp_resources': {'type': 'STRING'}}}, 'executorLabel': 'exec-model-batch-predict'}, 'comp-model-deploy': {'inputDefinitions': {'artifacts': {'endpoint': {'artifactType': {'schemaTitle': 'google.VertexEndpoint', 'schemaVersion': '0.0.1'}}, 'model': {'artifactType': {'schemaTitle': 'google.VertexModel', 'schemaVersion': '0.0.1'}}}, 'parameters': {'automatic_resources_max_replica_count': {'type': 'INT'}, 'automatic_resources_min_replica_count': {'type': 'INT'}, 'dedicated_resources_accelerator_count': {'type': 'INT'}, 'dedicated_resources_accelerator_type': {'type': 'STRING'}, 'dedicated_resources_machine_type': {'type': 'STRING'}, 'dedicated_resources_max_replica_count': {'type': 'INT'}, 'dedicated_resources_min_replica_count': {'type': 'INT'}, 'deployed_model_display_name': {'type': 'STRING'}, 'disable_container_logging': {'type': 'STRING'}, 'enable_access_logging': {'type': 'STRING'}, 'explanation_metadata': {'type': 'STRING'}, 'explanation_parameters': {'type': 'STRING'}, 'service_account': {'type': 'STRING'}, 'traffic_split': {'type': 'STRING'}}}, 'outputDefinitions': {'parameters': {'gcp_resources': {'type': 'STRING'}}}, 'executorLabel': 'exec-model-deploy'}}, 'schemaVersion': '2.0.0', 'root': {'inputDefinitions': {'parameters': {'bucket_name': {'type': 'STRING'}, 'machine_type': {'type': 'STRING'}, 'project_id': {'type': 'STRING'}, 'region': {'type': 'STRING'}, 'replica_count': {'type': 'INT'}}}, 'dag': {'tasks': {'customcontainertrainingjob-run': {'taskInfo': {'name': 'customcontainertrainingjob-run'}, 'inputs': {'parameters': {'args': {'runtimeValue': {'constantValue': {'stringValue': '[\"--lr=0.003\", \"--epochs=5\"]'}}}, 'base_output_dir': {'componentInputParameter': 'bucket_name'}, 'location': {'componentInputParameter': 'region'}, 'machine_type': {'componentInputParameter': 'machine_type'}, 'project': {'componentInputParameter': 'project_id'}, 'replica_count': {'componentInputParameter': 'replica_count'}, 'staging_bucket': {'componentInputParameter': 'bucket_name'}}, 'artifacts': {'dataset': {'taskOutputArtifact': {'producerTask': 'image-dataset-create', 'outputArtifactKey': 'dataset'}}}}, 'dependentTasks': ['image-dataset-create'], 'cachingOptions': {}, 'componentRef': {'name': 'comp-customcontainertrainingjob-run'}}, 'endpoint-create': {'taskInfo': {'name': 'endpoint-create'}, 'inputs': {'parameters': {'description': {'runtimeValue': {'constantValue': {'stringValue': ''}}}, 'display_name': {'runtimeValue': {'constantValue': {'stringValue': 'vision_workshop_tf_prediction'}}}, 'encryption_spec_key_name': {'runtimeValue': {'constantValue': {'stringValue': ''}}}, 'labels': {'runtimeValue': {'constantValue': {'stringValue': '{}'}}}, 'location': {'componentInputParameter': 'region'}, 'network': {'runtimeValue': {'constantValue': {'stringValue': ''}}}, 'project': {'componentInputParameter': 'project_id'}}}, 'dependentTasks': ['customcontainertrainingjob-run'], 'cachingOptions': {}, 'componentRef': {'name': 'comp-endpoint-create'}}, 'image-dataset-create': {'taskInfo': {'name': 'image-dataset-create'}, 'inputs': {'parameters': {'data_item_labels': {'runtimeValue': {'constantValue': {'stringValue': '{}'}}}, 'display_name': {'runtimeValue': {'constantValue': {'stringValue': 'vision_workshop_dataset_2022-11-17'}}}, 'gcs_source': {'runtimeValue': {'constantValue': {'stringValue': 'gs://temp-vision-workshop-vision-workshop/prod/flowers.csv'}}}, 'import_schema_uri': {'runtimeValue': {'constantValue': {'stringValue': 'gs://google-cloud-aiplatform/schema/dataset/ioformat/image_classification_single_label_io_format_1.0.0.yaml'}}}, 'labels': {'runtimeValue': {'constantValue': {'stringValue': '{}'}}}, 'location': {'componentInputParameter': 'region'}, 'project': {'componentInputParameter': 'project_id'}}}, 'cachingOptions': {}, 'componentRef': {'name': 'comp-image-dataset-create'}}, 'model-batch-predict': {'taskInfo': {'name': 'model-batch-predict'}, 'inputs': {'parameters': {'accelerator_count': {'runtimeValue': {'constantValue': {'intValue': '0'}}}, 'accelerator_type': {'runtimeValue': {'constantValue': {'stringValue': ''}}}, 'bigquery_destination_output_uri': {'runtimeValue': {'constantValue': {'stringValue': ''}}}, 'bigquery_source_input_uri': {'runtimeValue': {'constantValue': {'stringValue': ''}}}, 'encryption_spec_key_name': {'runtimeValue': {'constantValue': {'stringValue': ''}}}, 'explanation_metadata': {'runtimeValue': {'constantValue': {'stringValue': '{}'}}}, 'explanation_parameters': {'runtimeValue': {'constantValue': {'stringValue': '{}'}}}, 'gcs_destination_output_uri_prefix': {'runtimeValue': {'constantValue': {'stringValue': 'gs://temp-vision-workshop-vision-workshop'}}}, 'gcs_source_uris': {'runtimeValue': {'constantValue': {'stringValue': '[\"gs://temp-vision-workshop-vision-workshop/test2.jsonl\"]'}}}, 'generate_explanation': {'runtimeValue': {'constantValue': {'intValue': '0'}}}, 'instances_format': {'runtimeValue': {'constantValue': {'stringValue': 'jsonl'}}}, 'job_display_name': {'runtimeValue': {'constantValue': {'stringValue': 'batch_predict_job'}}}, 'labels': {'runtimeValue': {'constantValue': {'stringValue': '{}'}}}, 'location': {'componentInputParameter': 'region'}, 'machine_type': {'componentInputParameter': 'machine_type'}, 'manual_batch_tuning_parameters_batch_size': {'runtimeValue': {'constantValue': {'intValue': '0'}}}, 'max_replica_count': {'runtimeValue': {'constantValue': {'intValue': '1'}}}, 'model_parameters': {'runtimeValue': {'constantValue': {'stringValue': '{}'}}}, 'predictions_format': {'runtimeValue': {'constantValue': {'stringValue': 'jsonl'}}}, 'project': {'componentInputParameter': 'project_id'}, 'starting_replica_count': {'runtimeValue': {'constantValue': {'intValue': '1'}}}}, 'artifacts': {'model': {'taskOutputArtifact': {'producerTask': 'customcontainertrainingjob-run', 'outputArtifactKey': 'model'}}}}, 'dependentTasks': ['customcontainertrainingjob-run'], 'cachingOptions': {}, 'componentRef': {'name': 'comp-model-batch-predict'}}, 'model-deploy': {'taskInfo': {'name': 'model-deploy'}, 'inputs': {'parameters': {'automatic_resources_max_replica_count': {'runtimeValue': {'constantValue': {'intValue': '0'}}}, 'automatic_resources_min_replica_count': {'runtimeValue': {'constantValue': {'intValue': '0'}}}, 'dedicated_resources_accelerator_count': {'runtimeValue': {'constantValue': {'intValue': '0'}}}, 'dedicated_resources_accelerator_type': {'runtimeValue': {'constantValue': {'stringValue': ''}}}, 'dedicated_resources_machine_type': {'componentInputParameter': 'machine_type'}, 'dedicated_resources_max_replica_count': {'runtimeValue': {'constantValue': {'intValue': '0'}}}, 'dedicated_resources_min_replica_count': {'componentInputParameter': 'replica_count'}, 'deployed_model_display_name': {'runtimeValue': {'constantValue': {'stringValue': 'image-classifier-tf-7l3oe'}}}, 'disable_container_logging': {'runtimeValue': {'constantValue': {'intValue': '0'}}}, 'enable_access_logging': {'runtimeValue': {'constantValue': {'intValue': '0'}}}, 'explanation_metadata': {'runtimeValue': {'constantValue': {'stringValue': '{}'}}}, 'explanation_parameters': {'runtimeValue': {'constantValue': {'stringValue': '{}'}}}, 'service_account': {'runtimeValue': {'constantValue': {'stringValue': ''}}}, 'traffic_split': {'runtimeValue': {'constantValue': {'stringValue': '{}'}}}}, 'artifacts': {'endpoint': {'taskOutputArtifact': {'producerTask': 'endpoint-create', 'outputArtifactKey': 'endpoint'}}, 'model': {'taskOutputArtifact': {'producerTask': 'customcontainertrainingjob-run', 'outputArtifactKey': 'model'}}}}, 'dependentTasks': ['customcontainertrainingjob-run', 'endpoint-create'], 'cachingOptions': {}, 'componentRef': {'name': 'comp-model-deploy'}}}}}, 'sdkVersion': 'kfp-1.8.14', 'pipelineInfo': {'name': 'vision-workshop-tf-pipeline-7l3oe'}, 'deploymentSpec': {'executors': {'exec-customcontainertrainingjob-run': {'container': {'image': 'gcr.io/ml-pipeline/google-cloud-pipeline-components:1.0.26', 'command': ['python3', '-m', 'google_cloud_pipeline_components.container.aiplatform.remote_runner', '--cls_name', 'CustomContainerTrainingJob', '--method_name', 'run'], 'args': ['--init.display_name', 'image-classifier-train-tf-7l3oe', '--init.container_uri', 'europe-west4-docker.pkg.dev/temp-vision-workshop/vision-7l3oe/image-classifier:v1', '--init.model_serving_container_image_uri', 'europe-docker.pkg.dev/vertex-ai/prediction/tf2-cpu.2-8:latest', '--method.model_display_name', 'image-classifier-tf-7l3oe', '--method.accelerator_type', 'NVIDIA_TESLA_T4', '--method.accelerator_count', '1', '--executor_input', '{{$}}', '--resource_name_output_artifact_uri', \"{{$.outputs.artifacts['model'].uri}}\", '--init.staging_bucket', \"{{$.inputs.parameters['staging_bucket']}}\", '--method.dataset', \"{{$.inputs.artifacts['dataset'].metadata['resourceName']}}\", '--method.base_output_dir', \"{{$.inputs.parameters['base_output_dir']}}\", '--method.args', \"{{$.inputs.parameters['args']}}\", '--method.replica_count', \"{{$.inputs.parameters['replica_count']}}\", '--method.machine_type', \"{{$.inputs.parameters['machine_type']}}\", '--init.project', \"{{$.inputs.parameters['project']}}\", '--init.location', \"{{$.inputs.parameters['location']}}\"]}}, 'exec-endpoint-create': {'container': {'image': 'gcr.io/ml-pipeline/google-cloud-pipeline-components:1.0.26', 'command': ['python3', '-u', '-m', 'google_cloud_pipeline_components.container.v1.endpoint.create_endpoint.launcher'], 'args': ['--type', 'CreateEndpoint', '--payload', '{\"display_name\": \"{{$.inputs.parameters[\\'display_name\\']}}\", \"description\": \"{{$.inputs.parameters[\\'description\\']}}\", \"labels\": {{$.inputs.parameters[\\'labels\\']}}, \"encryption_spec\": {\"kms_key_name\":\"{{$.inputs.parameters[\\'encryption_spec_key_name\\']}}\"}, \"network\": \"{{$.inputs.parameters[\\'network\\']}}\"}', '--project', \"{{$.inputs.parameters['project']}}\", '--location', \"{{$.inputs.parameters['location']}}\", '--gcp_resources', \"{{$.outputs.parameters['gcp_resources'].output_file}}\", '--executor_input', '{{$}}']}}, 'exec-image-dataset-create': {'container': {'image': 'gcr.io/ml-pipeline/google-cloud-pipeline-components:1.0.26', 'command': ['python3', '-m', 'google_cloud_pipeline_components.container.aiplatform.remote_runner', '--cls_name', 'ImageDataset', '--method_name', 'create'], 'args': ['--method.project', \"{{$.inputs.parameters['project']}}\", '--method.location', \"{{$.inputs.parameters['location']}}\", '--method.display_name', \"{{$.inputs.parameters['display_name']}}\", '--method.data_item_labels', \"{{$.inputs.parameters['data_item_labels']}}\", '--method.gcs_source', \"{{$.inputs.parameters['gcs_source']}}\", '--method.import_schema_uri', \"{{$.inputs.parameters['import_schema_uri']}}\", '--method.labels', \"{{$.inputs.parameters['labels']}}\", '--executor_input', '{{$}}', '--resource_name_output_artifact_uri', \"{{$.outputs.artifacts['dataset'].uri}}\"]}}, 'exec-model-batch-predict': {'container': {'image': 'gcr.io/ml-pipeline/google-cloud-pipeline-components:1.0.26', 'command': ['python3', '-u', '-m', 'google_cloud_pipeline_components.container.v1.batch_prediction_job.launcher'], 'args': ['--type', 'BatchPredictionJob', '--payload', '{\"display_name\": \"{{$.inputs.parameters[\\'job_display_name\\']}}\", \"model\": \"{{$.inputs.artifacts[\\'model\\'].metadata[\\'resourceName\\']}}\", \"input_config\": {\"instances_format\": \"{{$.inputs.parameters[\\'instances_format\\']}}\", \"gcs_source\": {\"uris\":{{$.inputs.parameters[\\'gcs_source_uris\\']}}}, \"bigquery_source\": {\"input_uri\": \"{{$.inputs.parameters[\\'bigquery_source_input_uri\\']}}\"}}, \"model_parameters\": {{$.inputs.parameters[\\'model_parameters\\']}}, \"output_config\": {\"predictions_format\": \"{{$.inputs.parameters[\\'predictions_format\\']}}\", \"gcs_destination\": {\"output_uri_prefix\": \"{{$.inputs.parameters[\\'gcs_destination_output_uri_prefix\\']}}\"}, \"bigquery_destination\": {\"output_uri\": \"{{$.inputs.parameters[\\'bigquery_destination_output_uri\\']}}\"}}, \"dedicated_resources\": {\"machine_spec\": {\"machine_type\": \"{{$.inputs.parameters[\\'machine_type\\']}}\", \"accelerator_type\": \"{{$.inputs.parameters[\\'accelerator_type\\']}}\", \"accelerator_count\": {{$.inputs.parameters[\\'accelerator_count\\']}}}, \"starting_replica_count\": {{$.inputs.parameters[\\'starting_replica_count\\']}}, \"max_replica_count\": {{$.inputs.parameters[\\'max_replica_count\\']}}}, \"manual_batch_tuning_parameters\": {\"batch_size\": {{$.inputs.parameters[\\'manual_batch_tuning_parameters_batch_size\\']}}}, \"generate_explanation\": {{$.inputs.parameters[\\'generate_explanation\\']}}, \"explanation_spec\": {\"parameters\": {{$.inputs.parameters[\\'explanation_parameters\\']}}, \"metadata\": {{$.inputs.parameters[\\'explanation_metadata\\']}}}, \"labels\": {{$.inputs.parameters[\\'labels\\']}}, \"encryption_spec\": {\"kms_key_name\":\"{{$.inputs.parameters[\\'encryption_spec_key_name\\']}}\"}}', '--project', \"{{$.inputs.parameters['project']}}\", '--location', \"{{$.inputs.parameters['location']}}\", '--gcp_resources', \"{{$.outputs.parameters['gcp_resources'].output_file}}\", '--executor_input', '{{$}}']}}, 'exec-model-deploy': {'container': {'image': 'gcr.io/ml-pipeline/google-cloud-pipeline-components:1.0.26', 'command': ['python3', '-u', '-m', 'google_cloud_pipeline_components.container.v1.endpoint.deploy_model.launcher'], 'args': ['--type', 'DeployModel', '--payload', '{\"endpoint\": \"{{$.inputs.artifacts[\\'endpoint\\'].metadata[\\'resourceName\\']}}\", \"traffic_split\": {{$.inputs.parameters[\\'traffic_split\\']}}, \"deployed_model\": {\"model\": \"{{$.inputs.artifacts[\\'model\\'].metadata[\\'resourceName\\']}}\", \"dedicated_resources\": {\"machine_spec\": {\"machine_type\": \"{{$.inputs.parameters[\\'dedicated_resources_machine_type\\']}}\", \"accelerator_type\": \"{{$.inputs.parameters[\\'dedicated_resources_accelerator_type\\']}}\", \"accelerator_count\": {{$.inputs.parameters[\\'dedicated_resources_accelerator_count\\']}}}, \"min_replica_count\": {{$.inputs.parameters[\\'dedicated_resources_min_replica_count\\']}}, \"max_replica_count\": {{$.inputs.parameters[\\'dedicated_resources_max_replica_count\\']}}}, \"automatic_resources\": {\"min_replica_count\": {{$.inputs.parameters[\\'automatic_resources_min_replica_count\\']}}, \"max_replica_count\": {{$.inputs.parameters[\\'automatic_resources_max_replica_count\\']}}}, \"service_account\": \"{{$.inputs.parameters[\\'service_account\\']}}\", \"disable_container_logging\": {{$.inputs.parameters[\\'disable_container_logging\\']}}, \"enable_access_logging\": {{$.inputs.parameters[\\'enable_access_logging\\']}}, \"explanation_spec\": {\"parameters\": {{$.inputs.parameters[\\'explanation_parameters\\']}}, \"metadata\": {{$.inputs.parameters[\\'explanation_metadata\\']}}}}}', '--project', '', '--location', '', '--gcp_resources', \"{{$.outputs.parameters['gcp_resources'].output_file}}\"]}}}}}, 'state': 'PIPELINE_STATE_PENDING', 'labels': {'vertex-ai-pipelines-run-billing-id': '9140561219097198592'}, 'runtimeConfig': {'parameters': {'bucket_name': {'stringValue': 'gs://temp-vision-workshop-vision-workshop'}, 'machine_type': {'stringValue': 'n1-standard-4'}, 'project_id': {'stringValue': 'temp-vision-workshop'}, 'region': {'stringValue': 'europe-west4'}, 'replica_count': {'intValue': '1'}}, 'gcsOutputDirectory': 'gs://temp-vision-workshop-vision-workshop/pipelines'}, 'serviceAccount': '446303513828-compute@developer.gserviceaccount.com'}\n"
     ]
    }
   ],
   "source": [
    "pipelines_file_location = os.path.join('./pipelines/', f'{PIPELINE_NAME}.json')\n",
    "!python ./deploy_kfp_pipeline/pipeline_run.py --pipelines-file-location=$pipelines_file_location"
   ]
  }
 ],
 "metadata": {
  "environment": {
   "kernel": "python3",
   "name": "tf2-gpu.2-8.m99",
   "type": "gcloud",
   "uri": "gcr.io/deeplearning-platform-release/tf2-gpu.2-8:m99"
  },
  "kernelspec": {
   "display_name": "Python 3",
   "language": "python",
   "name": "python3"
  },
  "language_info": {
   "codemirror_mode": {
    "name": "ipython",
    "version": 3
   },
   "file_extension": ".py",
   "mimetype": "text/x-python",
   "name": "python",
   "nbconvert_exporter": "python",
   "pygments_lexer": "ipython3",
   "version": "3.7.12"
  }
 },
 "nbformat": 4,
 "nbformat_minor": 5
}
