{
 "cells": [
  {
   "cell_type": "code",
   "execution_count": null,
   "metadata": {
    "cellView": "form",
    "id": "ur8xi4C7S06n"
   },
   "outputs": [],
   "source": [
    "# Copyright 2022 Google LLC\n",
    "#\n",
    "# Licensed under the Apache License, Version 2.0 (the \"License\");\n",
    "# you may not use this file except in compliance with the License.\n",
    "# You may obtain a copy of the License at\n",
    "#\n",
    "#     https://www.apache.org/licenses/LICENSE-2.0\n",
    "#\n",
    "# Unless required by applicable law or agreed to in writing, software\n",
    "# distributed under the License is distributed on an \"AS IS\" BASIS,\n",
    "# WITHOUT WARRANTIES OR CONDITIONS OF ANY KIND, either express or implied.\n",
    "# See the License for the specific language governing permissions and\n",
    "# limitations under the License."
   ]
  },
  {
   "cell_type": "markdown",
   "metadata": {
    "id": "fsv4jGuU89rX"
   },
   "source": [
    "# Vision Workshop - Environment Setup"
   ]
  },
  {
   "cell_type": "markdown",
   "metadata": {
    "id": "827c41ab1a12"
   },
   "source": [
    "## Overview\n",
    "\n",
    "[Vision Workshop](https://github.com/mblanc/vision-workshop) is a series of labs on how to build an image classification system on Google Cloud. Throughout the Vision Workshop labs, you will learn how to read image data stored in data lake, perform exploratory data analysis (EDA), train a model, register your model in a model registry, evaluate your model, deploy your model to an endpoint, do real-time inference on your model."
   ]
  },
  {
   "cell_type": "markdown",
   "metadata": {
    "id": "45f6e923dc75"
   },
   "source": [
    "### Objective\n",
    "\n",
    "Before you run this notebook, make sure that you have completed the steps in [README](README.md).\n",
    "\n",
    "In this notebook, you will setup your environment for Fraudfinder to be used in subsequent labs.\n",
    "\n",
    "This lab uses the following Google Cloud services and resources:\n",
    "\n",
    "- [Vertex AI](https://cloud.google.com/vertex-ai/)\n",
    "- [Google Cloud Storage](https://cloud.google.com/storage)\n",
    "\n",
    "Steps performed in this notebook:\n",
    "\n",
    "- Setup your environment.\n",
    "- Load image data into Cloud Storage.\n",
    "- Read data from Cloud Storage."
   ]
  },
  {
   "cell_type": "markdown",
   "metadata": {
    "id": "8b5e2e2a7bdb"
   },
   "source": [
    "### Costs"
   ]
  },
  {
   "cell_type": "markdown",
   "metadata": {
    "id": "04c1dae4ca17"
   },
   "source": [
    "This tutorial uses billable components of Google Cloud:\n",
    "\n",
    "* Vertex AI\n",
    "* Cloud Storage\n",
    "\n",
    "Learn about [Vertex AI\n",
    "pricing](https://cloud.google.com/vertex-ai/pricing), [Cloud Storage\n",
    "pricing](https://cloud.google.com/storage/pricing)\n",
    "to generate a cost estimate based on your projected usage."
   ]
  },
  {
   "cell_type": "markdown",
   "metadata": {
    "id": "773901ca47fd"
   },
   "source": [
    "### Install additional packages\n",
    "\n",
    "Install the following packages required to execute this notebook."
   ]
  },
  {
   "cell_type": "code",
   "execution_count": 1,
   "metadata": {
    "id": "b7c7ce6bbf03"
   },
   "outputs": [
    {
     "name": "stdout",
     "output_type": "stream",
     "text": [
      "\u001b[33m  WARNING: The script tabulate is installed in '/home/jupyter/.local/bin' which is not on PATH.\n",
      "  Consider adding this directory to PATH or, if you prefer to suppress this warning, use --no-warn-script-location.\u001b[0m\u001b[33m\n",
      "\u001b[0m\u001b[33m  WARNING: The script strip-hints is installed in '/home/jupyter/.local/bin' which is not on PATH.\n",
      "  Consider adding this directory to PATH or, if you prefer to suppress this warning, use --no-warn-script-location.\u001b[0m\u001b[33m\n",
      "\u001b[0m\u001b[33m  WARNING: The script plasma_store is installed in '/home/jupyter/.local/bin' which is not on PATH.\n",
      "  Consider adding this directory to PATH or, if you prefer to suppress this warning, use --no-warn-script-location.\u001b[0m\u001b[33m\n",
      "\u001b[0m\u001b[33m  WARNING: The script jsonschema is installed in '/home/jupyter/.local/bin' which is not on PATH.\n",
      "  Consider adding this directory to PATH or, if you prefer to suppress this warning, use --no-warn-script-location.\u001b[0m\u001b[33m\n",
      "\u001b[0m\u001b[33m  WARNING: The script gen_client is installed in '/home/jupyter/.local/bin' which is not on PATH.\n",
      "  Consider adding this directory to PATH or, if you prefer to suppress this warning, use --no-warn-script-location.\u001b[0m\u001b[33m\n",
      "\u001b[0m\u001b[33m  WARNING: The scripts dsl-compile, dsl-compile-v2 and kfp are installed in '/home/jupyter/.local/bin' which is not on PATH.\n",
      "  Consider adding this directory to PATH or, if you prefer to suppress this warning, use --no-warn-script-location.\u001b[0m\u001b[33m\n",
      "\u001b[0m"
     ]
    }
   ],
   "source": [
    "import os\n",
    "\n",
    "# The Vertex AI Workbench Notebook product has specific requirements\n",
    "IS_WORKBENCH_NOTEBOOK = os.getenv(\"DL_ANACONDA_HOME\")\n",
    "IS_USER_MANAGED_WORKBENCH_NOTEBOOK = os.path.exists(\n",
    "    \"/opt/deeplearning/metadata/env_version\"\n",
    ")\n",
    "\n",
    "# Vertex AI Notebook requires dependencies to be installed with '--user'\n",
    "USER_FLAG = \"\"\n",
    "if IS_WORKBENCH_NOTEBOOK:\n",
    "    USER_FLAG = \"--user\"\n",
    "\n",
    "!pip install --upgrade --no-warn-conflicts '{USER_FLAG}' -q \\\n",
    "    google-cloud-pubsub==2.13.6 \\\n",
    "    google-api-core==2.8.2 \\\n",
    "    google-apitools==0.5.32 \\\n",
    "    plotly==5.10.0 \\\n",
    "    itables==1.2.0 \\\n",
    "    apache_beam==2.40.0 \\\n",
    "    google-cloud-pipeline-components \\\n",
    "    kfp \\\n",
    "    tensorflow==2.8.3 \\\n",
    "    tensorflow_datasets \\\n",
    "    tensorflow_hub"
   ]
  },
  {
   "cell_type": "markdown",
   "metadata": {
    "id": "d07214a67580"
   },
   "source": [
    "After you install the additional packages, you need to restart the notebook kernel so it can find the packages."
   ]
  },
  {
   "cell_type": "code",
   "execution_count": null,
   "metadata": {
    "id": "18c113700b6f"
   },
   "outputs": [],
   "source": [
    "# Automatically restart kernel after installs\n",
    "import os\n",
    "\n",
    "if not os.getenv(\"IS_TESTING\"):\n",
    "    import IPython\n",
    "\n",
    "    app = IPython.Application.instance()\n",
    "    app.kernel.do_shutdown(True)"
   ]
  },
  {
   "cell_type": "markdown",
   "metadata": {
    "id": "f31ae3fed8ab"
   },
   "source": [
    "### Setup your environment\n",
    "\n",
    "Run the next cells to import libraries used in this notebook and configure some options."
   ]
  },
  {
   "cell_type": "markdown",
   "metadata": {
    "id": "7d61a362443d"
   },
   "source": [
    "Run the next cell to set your project ID and some of the other constants used in the lab.  "
   ]
  },
  {
   "cell_type": "code",
   "execution_count": null,
   "metadata": {
    "cellView": "form",
    "id": "wxiE6dEWOFm3"
   },
   "outputs": [],
   "source": [
    "import random\n",
    "import string\n",
    "\n",
    "# Generate unique ID to help w/ unique naming of certain pieces\n",
    "ID = \"\".join(random.choices(string.ascii_lowercase + string.digits, k=5))\n",
    "\n",
    "GCP_PROJECTS = !gcloud config get-value project\n",
    "PROJECT_ID = GCP_PROJECTS[0]\n",
    "BUCKET_NAME = f\"{PROJECT_ID}-vision-workshop\"\n",
    "REGION = \"europe-west4\""
   ]
  },
  {
   "cell_type": "markdown",
   "metadata": {
    "id": "bd738fc1e201"
   },
   "source": [
    "### Create a Google Cloud Storage bucket and save the config data.\n",
    "\n",
    "Next, we will create a Google Cloud Storage bucket and will save the config data in this bucket. After the cell operation finishes, you can navigate to [Google Cloud Storage](https://console.cloud.google.com/storage/) to see the GCS bucket. "
   ]
  },
  {
   "cell_type": "code",
   "execution_count": null,
   "metadata": {
    "id": "7d3556c598a6"
   },
   "outputs": [],
   "source": [
    "config = f\"\"\"\n",
    "BUCKET_NAME          = \\\"{BUCKET_NAME}\\\"\n",
    "PROJECT              = \\\"{PROJECT_ID}\\\"\n",
    "REGION               = \\\"{REGION}\\\"\n",
    "ID                   = \\\"{ID}\\\"\n",
    "MODEL_NAME           = \\\"vision_workshop_model\\\"\n",
    "ENDPOINT_NAME        = \\\"vision_workshop_endpoint\\\"\n",
    "\"\"\"\n",
    "\n",
    "!gsutil mb -l {REGION} gs://{BUCKET_NAME}\n",
    "\n",
    "!echo '{config}' | gsutil cp - gs://{BUCKET_NAME}/config/notebook_env.py"
   ]
  },
  {
   "cell_type": "markdown",
   "metadata": {
    "id": "dc2dff7ba2e0"
   },
   "source": [
    "### Copy the data into Google Cloud Storage\n",
    "\n",
    "Now we will copy the data and ingest it into Google Cloud Storage."
   ]
  },
  {
   "cell_type": "code",
   "execution_count": null,
   "metadata": {
    "id": "4ac6e0bc33b1"
   },
   "outputs": [],
   "source": [
    "!gsutil -m cp -r gs://cloud-samples-data/ai-platform/flowers/flowers_200_folders.zip .\n"
   ]
  },
  {
   "cell_type": "code",
   "execution_count": 18,
   "metadata": {},
   "outputs": [
    {
     "name": "stdout",
     "output_type": "stream",
     "text": [
      "gs://cloud-samples-data/ai-platform/cifar_custom/hpt_cifar.tar.gz\n",
      "gs://cloud-samples-data/ai-platform/cifar_custom/tf2_trainer_cifar.tar.gz\n",
      "gs://cloud-samples-data/ai-platform/cifar_custom/trainer_cifar.tar.gz\n",
      "gs://cloud-samples-data/ai-platform/cifar_custom/tuner_cifar.tar.gz\n"
     ]
    }
   ],
   "source": [
    "!gsutil -m ls gs://cloud-samples-data/ai-platform/cifar_custom"
   ]
  },
  {
   "cell_type": "code",
   "execution_count": 16,
   "metadata": {},
   "outputs": [
    {
     "name": "stdout",
     "output_type": "stream",
     "text": [
      "Copying gs://cloud-samples-data/ai-platform/flowers/flowers.csv...\n",
      "/ [1/1 files][314.3 KiB/314.3 KiB] 100% Done                                    \n",
      "Operation completed over 1 objects/314.3 KiB.                                    \n"
     ]
    }
   ],
   "source": [
    "!gsutil -m cp gs://cloud-samples-data/ai-platform/flowers/flowers.csv ."
   ]
  },
  {
   "cell_type": "code",
   "execution_count": 10,
   "metadata": {},
   "outputs": [],
   "source": [
    "!rm -rf prod"
   ]
  },
  {
   "cell_type": "code",
   "execution_count": 11,
   "metadata": {},
   "outputs": [],
   "source": [
    "!mkdir prod"
   ]
  },
  {
   "cell_type": "code",
   "execution_count": 12,
   "metadata": {},
   "outputs": [
    {
     "name": "stdout",
     "output_type": "stream",
     "text": [
      "Archive:  flowers_200_unlabeled.zip\n",
      "   creating: prod/flowers_200_unlabeled/\n",
      "  inflating: prod/flowers_200_unlabeled/10090824183_d02c613f10_m.jpg  \n",
      "  inflating: prod/flowers_200_unlabeled/1031799732_e7f4008c03.jpg  \n",
      "  inflating: prod/flowers_200_unlabeled/10466558316_a7198b87e2.jpg  \n",
      "  inflating: prod/flowers_200_unlabeled/10555749515_13a12a026e.jpg  \n",
      "  inflating: prod/flowers_200_unlabeled/11023277956_8980d53169_m.jpg  \n",
      "  inflating: prod/flowers_200_unlabeled/110472418_87b6a3aa98_m.jpg  \n",
      "  inflating: prod/flowers_200_unlabeled/1193386857_3ae53574f2_m.jpg  \n",
      "  inflating: prod/flowers_200_unlabeled/12025038686_7f10811d4b_n.jpg  \n",
      "  inflating: prod/flowers_200_unlabeled/12193032636_b50ae7db35_n.jpg  \n",
      "  inflating: prod/flowers_200_unlabeled/12338444334_72fcc2fc58_m.jpg  \n",
      "  inflating: prod/flowers_200_unlabeled/1244774242_25a20d99a9.jpg  \n",
      "  inflating: prod/flowers_200_unlabeled/12916135413_dafcf3089e_n.jpg  \n",
      "  inflating: prod/flowers_200_unlabeled/12998979765_3de89e7195_n.jpg  \n",
      "  inflating: prod/flowers_200_unlabeled/130685347_afbffe3afa_n.jpg  \n",
      "  inflating: prod/flowers_200_unlabeled/13095941995_9a66faa713_n.jpg  \n",
      "  inflating: prod/flowers_200_unlabeled/13354458753_7b586f7c95_n.jpg  \n",
      "  inflating: prod/flowers_200_unlabeled/1355787476_32e9f2a30b.jpg  \n",
      "  inflating: prod/flowers_200_unlabeled/13561908485_7e4f8d508b.jpg  \n",
      "  inflating: prod/flowers_200_unlabeled/137126311_debe64c6a8_n.jpg  \n",
      "  inflating: prod/flowers_200_unlabeled/13897156242_dca5d93075_m.jpg  \n",
      "  inflating: prod/flowers_200_unlabeled/13910737760_c71c8b6ff2.jpg  \n",
      "  inflating: prod/flowers_200_unlabeled/13979889721_42a59ca9fa_m.jpg  \n",
      "  inflating: prod/flowers_200_unlabeled/13999392173_b1411f8b23_n.jpg  \n",
      "  inflating: prod/flowers_200_unlabeled/14073608876_49db8ac97d_n.jpg  \n",
      "  inflating: prod/flowers_200_unlabeled/140951103_69847c0b7c.jpg  \n",
      "  inflating: prod/flowers_200_unlabeled/14144522269_bc20029375_m.jpg  \n",
      "  inflating: prod/flowers_200_unlabeled/14262354955_cc2ab3b112_m.jpg  \n",
      "  inflating: prod/flowers_200_unlabeled/14275234071_6e6f473356.jpg  \n",
      "  inflating: prod/flowers_200_unlabeled/1443259657_2704fab26e_n.jpg  \n",
      "  inflating: prod/flowers_200_unlabeled/14485782498_fb342ec301.jpg  \n",
      "  inflating: prod/flowers_200_unlabeled/14573732424_1bb91e2e42_n.jpg  \n",
      "  inflating: prod/flowers_200_unlabeled/145862135_ab710de93c_n.jpg  \n",
      "  inflating: prod/flowers_200_unlabeled/146023167_f905574d97_m.jpg  \n",
      "  inflating: prod/flowers_200_unlabeled/14613443462_d4ed356201.jpg  \n",
      "  inflating: prod/flowers_200_unlabeled/14866200659_6462c723cb_m.jpg  \n",
      "  inflating: prod/flowers_200_unlabeled/15029936576_8d6f96c72c_n.jpg  \n",
      "  inflating: prod/flowers_200_unlabeled/15108515192_f686dce398_n.jpg  \n",
      "  inflating: prod/flowers_200_unlabeled/15240466871_ec45b65554_m.jpg  \n",
      "  inflating: prod/flowers_200_unlabeled/15275504998_ca9eb82998.jpg  \n",
      "  inflating: prod/flowers_200_unlabeled/15378782362_4161b23af7_m.jpg  \n",
      "  inflating: prod/flowers_200_unlabeled/15424480096_45bb574b33.jpg  \n",
      "  inflating: prod/flowers_200_unlabeled/15472217046_2699b25584.jpg  \n",
      "  inflating: prod/flowers_200_unlabeled/1562198683_8cd8cb5876_n.jpg  \n",
      "  inflating: prod/flowers_200_unlabeled/15683877266_42e0fe3782_n.jpg  \n",
      "  inflating: prod/flowers_200_unlabeled/15745084272_36402f5ee6_n.jpg  \n",
      "  inflating: prod/flowers_200_unlabeled/15760153042_a2a90e9da5_m.jpg  \n",
      "  inflating: prod/flowers_200_unlabeled/15853110333_229c439e7f.jpg  \n",
      "  inflating: prod/flowers_200_unlabeled/15901230359_1819e96b89_n.jpg  \n",
      "  inflating: prod/flowers_200_unlabeled/15977362155_461030c196_m.jpg  \n",
      "  inflating: prod/flowers_200_unlabeled/15987457_49dc11bf4b.jpg  \n",
      "  inflating: prod/flowers_200_unlabeled/16020253176_60f2a6a5ca_n.jpg  \n",
      "  inflating: prod/flowers_200_unlabeled/16149016979_23ef42b642_m.jpg  \n",
      "  inflating: prod/flowers_200_unlabeled/164672339_f2b5b164f6.jpg  \n",
      "  inflating: prod/flowers_200_unlabeled/16527403771_2391f137c4_n.jpg  \n",
      "  inflating: prod/flowers_200_unlabeled/16744522344_8d21b1530d_n.jpg  \n",
      "  inflating: prod/flowers_200_unlabeled/16772483324_09f24813a1_n.jpg  \n",
      "  inflating: prod/flowers_200_unlabeled/16930121391_a4092ecf00_n.jpg  \n",
      "  inflating: prod/flowers_200_unlabeled/16987075_9a690a2183.jpg  \n",
      "  inflating: prod/flowers_200_unlabeled/17027891179_3edc08f4f6.jpg  \n",
      "  inflating: prod/flowers_200_unlabeled/17189456156_6fc1067831.jpg  \n",
      "  inflating: prod/flowers_200_unlabeled/176284193_8fa1710431_m.jpg  \n",
      "  inflating: prod/flowers_200_unlabeled/1788484468_f73afa6c32_n.jpg  \n",
      "  inflating: prod/flowers_200_unlabeled/17908793211_ff0f1f81d3_n.jpg  \n",
      "  inflating: prod/flowers_200_unlabeled/1793211631_68c31a74dc.jpg  \n",
      "  inflating: prod/flowers_200_unlabeled/17953368844_be3d18cf30_m.jpg  \n",
      "  inflating: prod/flowers_200_unlabeled/18203367608_07a04e98a4_n.jpg  \n",
      "  inflating: prod/flowers_200_unlabeled/18204150090_fb418bbddb.jpg  \n",
      "  inflating: prod/flowers_200_unlabeled/184683023_737fec5b18.jpg  \n",
      "  inflating: prod/flowers_200_unlabeled/18599603859_f2ec616ddf_n.jpg  \n",
      "  inflating: prod/flowers_200_unlabeled/19019544592_b64469bf84_n.jpg  \n",
      "  inflating: prod/flowers_200_unlabeled/19526570282_1d1e71b0f3_m.jpg  \n",
      "  inflating: prod/flowers_200_unlabeled/19551343814_48f764535f_m.jpg  \n",
      " extracting: prod/flowers_200_unlabeled/200011914_93f57ed68b.jpg  \n",
      "  inflating: prod/flowers_200_unlabeled/20165867412_fc45d31698_m.jpg  \n",
      "  inflating: prod/flowers_200_unlabeled/20183028616_beb937e75c_m.jpg  \n",
      "  inflating: prod/flowers_200_unlabeled/20289938802_e16fa9f23d.jpg  \n",
      "  inflating: prod/flowers_200_unlabeled/2045022175_ad087f5f60_n.jpg  \n",
      "  inflating: prod/flowers_200_unlabeled/20481273479_d459834a3e_n.jpg  \n",
      "  inflating: prod/flowers_200_unlabeled/22325299158_6e32e599f8_m.jpg  \n",
      "  inflating: prod/flowers_200_unlabeled/22419079265_8902cddb7d_n.jpg  \n",
      "  inflating: prod/flowers_200_unlabeled/2243427551_809b603992_z.jpg  \n",
      "  inflating: prod/flowers_200_unlabeled/2280950463_86510c2789_n.jpg  \n",
      "  inflating: prod/flowers_200_unlabeled/2365428551_39f83f10bf_n.jpg  \n",
      "  inflating: prod/flowers_200_unlabeled/2453532367_fc373df4de.jpg  \n",
      "  inflating: prod/flowers_200_unlabeled/2473862606_291ae74885.jpg  \n",
      "  inflating: prod/flowers_200_unlabeled/2495749544_679dc7ccef.jpg  \n",
      "  inflating: prod/flowers_200_unlabeled/2498632196_e47a472d5a.jpg  \n",
      "  inflating: prod/flowers_200_unlabeled/2518321294_dde5aa7c20_m.jpg  \n",
      "  inflating: prod/flowers_200_unlabeled/2521811279_1f7fc353bf_n.jpg  \n",
      "  inflating: prod/flowers_200_unlabeled/2550860627_998a4fc4c1.jpg  \n",
      "  inflating: prod/flowers_200_unlabeled/2556503265_63ae6b9e0e_m.jpg  \n",
      "  inflating: prod/flowers_200_unlabeled/2561371688_c80a4fe957_n.jpg  \n",
      "  inflating: prod/flowers_200_unlabeled/2569516382_9fd7097b9b.jpg  \n",
      "  inflating: prod/flowers_200_unlabeled/2575272111_f04d79b9af_n.jpg  \n",
      "  inflating: prod/flowers_200_unlabeled/2590291468_2635d3e4e0_n.jpg  \n",
      "  inflating: prod/flowers_200_unlabeled/274848710_5185cf33b1_n.jpg  \n",
      "  inflating: prod/flowers_200_unlabeled/2949654221_909b0c86a1_n.jpg  \n",
      "  inflating: prod/flowers_200_unlabeled/2960610406_b61930727f_n.jpg  \n",
      "  inflating: prod/flowers_200_unlabeled/2979133707_84aab35b5d.jpg  \n",
      "  inflating: prod/flowers_200_unlabeled/305160642_53cde0f44f.jpg  \n",
      "  inflating: prod/flowers_200_unlabeled/3103591125_99107c8bbe_n.jpg  \n",
      "  inflating: prod/flowers_200_unlabeled/3146795631_d062f233c1.jpg  \n",
      "  inflating: prod/flowers_200_unlabeled/3179751458_9646d839f6_n.jpg  \n",
      "  inflating: prod/flowers_200_unlabeled/323872063_7264e7e018_m.jpg  \n",
      "  inflating: prod/flowers_200_unlabeled/3292654244_4a220ab96f_m.jpg  \n",
      "  inflating: prod/flowers_200_unlabeled/3419176626_512811d3ff.jpg  \n",
      "  inflating: prod/flowers_200_unlabeled/3422228549_f147d6e642.jpg  \n",
      "  inflating: prod/flowers_200_unlabeled/3451646670_3eff7094b7_n.jpg  \n",
      "  inflating: prod/flowers_200_unlabeled/3465443774_6b0c75a3b1_n.jpg  \n",
      "  inflating: prod/flowers_200_unlabeled/3499837275_5f24d2f8bf_n.jpg  \n",
      "  inflating: prod/flowers_200_unlabeled/3510799169_0ed6ae9669_n.jpg  \n",
      "  inflating: prod/flowers_200_unlabeled/3637371174_a8dfcc1b35.jpg  \n",
      "  inflating: prod/flowers_200_unlabeled/3696596109_4c4419128a_m.jpg  \n",
      "  inflating: prod/flowers_200_unlabeled/3751835302_d5a03f55e8_n.jpg  \n",
      "  inflating: prod/flowers_200_unlabeled/3894586562_5dbbdc4354_n.jpg  \n",
      "  inflating: prod/flowers_200_unlabeled/3975010332_3209f9f447_m.jpg  \n",
      "  inflating: prod/flowers_200_unlabeled/4019748730_ee09b39a43.jpg  \n",
      "  inflating: prod/flowers_200_unlabeled/40410686_272bc66faf_m.jpg  \n",
      "  inflating: prod/flowers_200_unlabeled/410425647_4586667858.jpg  \n",
      "  inflating: prod/flowers_200_unlabeled/4134441089_c8c1e6132a.jpg  \n",
      "  inflating: prod/flowers_200_unlabeled/4258272381_65bd4b8191_m.jpg  \n",
      "  inflating: prod/flowers_200_unlabeled/4281102584_c548a69b81_m.jpg  \n",
      "  inflating: prod/flowers_200_unlabeled/4318007511_e9f4311936_n.jpg  \n",
      "  inflating: prod/flowers_200_unlabeled/4398771472_44f2a0c162_n.jpg  \n",
      "  inflating: prod/flowers_200_unlabeled/44079668_34dfee3da1_n.jpg  \n",
      "  inflating: prod/flowers_200_unlabeled/4442928974_9672d630b2_n.jpg  \n",
      "  inflating: prod/flowers_200_unlabeled/4489359360_09db62f825.jpg  \n",
      " extracting: prod/flowers_200_unlabeled/4546299243_23cd58eb43.jpg  \n",
      "  inflating: prod/flowers_200_unlabeled/4553266758_09d4dbdac9_n.jpg  \n",
      "  inflating: prod/flowers_200_unlabeled/4565139594_b28d260cb9.jpg  \n",
      "  inflating: prod/flowers_200_unlabeled/4574785121_5d8ec4626e.jpg  \n",
      "  inflating: prod/flowers_200_unlabeled/4625089819_55c45a189c.jpg  \n",
      "  inflating: prod/flowers_200_unlabeled/4632863567_5f9af7de97_n.jpg  \n",
      "  inflating: prod/flowers_200_unlabeled/4638438929_2ec76083c8_m.jpg  \n",
      "  inflating: prod/flowers_200_unlabeled/466486216_ab13b55763.jpg  \n",
      "  inflating: prod/flowers_200_unlabeled/467702445_b8676f60fb_n.jpg  \n",
      "  inflating: prod/flowers_200_unlabeled/4755705724_976621a1e7.jpg  \n",
      "  inflating: prod/flowers_200_unlabeled/4804011140_7defedf4b7_m.jpg  \n",
      "  inflating: prod/flowers_200_unlabeled/4838669164_ffb6f67139.jpg  \n",
      "  inflating: prod/flowers_200_unlabeled/486896118_bcc7b8e1d6.jpg  \n",
      "  inflating: prod/flowers_200_unlabeled/4881402397_1c664af2f7_n.jpg  \n",
      "  inflating: prod/flowers_200_unlabeled/4933821940_38064522a8.jpg  \n",
      "  inflating: prod/flowers_200_unlabeled/510844526_858b8fe4db.jpg  \n",
      "  inflating: prod/flowers_200_unlabeled/5110109540_beed4ed162_m.jpg  \n",
      "  inflating: prod/flowers_200_unlabeled/519880292_7a3a6c6b69.jpg  \n",
      "  inflating: prod/flowers_200_unlabeled/5223643767_d8beb7e410.jpg  \n",
      "  inflating: prod/flowers_200_unlabeled/525271784_013ddccd1b_m.jpg  \n",
      "  inflating: prod/flowers_200_unlabeled/5388013398_09a8a0f166_m.jpg  \n",
      "  inflating: prod/flowers_200_unlabeled/5446666484_365f3be83a_n.jpg  \n",
      "  inflating: prod/flowers_200_unlabeled/5556633113_0a04f5ed8a_n.jpg  \n",
      "  inflating: prod/flowers_200_unlabeled/5602738326_97121e007d_n.jpg  \n",
      "  inflating: prod/flowers_200_unlabeled/5607256228_2294c201b3.jpg  \n",
      "  inflating: prod/flowers_200_unlabeled/5623010186_796ca8d29a.jpg  \n",
      "  inflating: prod/flowers_200_unlabeled/5665834973_76bd6c6523_m.jpg  \n",
      "  inflating: prod/flowers_200_unlabeled/5700394524_dc6f8fa9cd_n.jpg  \n",
      "  inflating: prod/flowers_200_unlabeled/5700466891_2bcb17fa68_n.jpg  \n",
      "  inflating: prod/flowers_200_unlabeled/5705695593_d79286ac0d.jpg  \n",
      "  inflating: prod/flowers_200_unlabeled/5716293002_a8be6a6dd3_n.jpg  \n",
      "  inflating: prod/flowers_200_unlabeled/5719416820_3060e3c1f0.jpg  \n",
      "  inflating: prod/flowers_200_unlabeled/5722473541_ffac1ae67e_n.jpg  \n",
      "  inflating: prod/flowers_200_unlabeled/5952223760_85972671d6_n.jpg  \n",
      "  inflating: prod/flowers_200_unlabeled/5995136822_8e1eed76f5_n.jpg  \n",
      "  inflating: prod/flowers_200_unlabeled/6038098425_b3b4fb62cc_m.jpg  \n",
      "  inflating: prod/flowers_200_unlabeled/6053739964_a1d9ab3ed1_n.jpg  \n",
      "  inflating: prod/flowers_200_unlabeled/6231418894_7946a7712b_n.jpg  \n",
      "  inflating: prod/flowers_200_unlabeled/6400843175_ef07053f8f_m.jpg  \n",
      "  inflating: prod/flowers_200_unlabeled/6473543547_4fefdbd5dc.jpg  \n",
      "  inflating: prod/flowers_200_unlabeled/6903831250_a2757fff82_m.jpg  \n",
      "  inflating: prod/flowers_200_unlabeled/6936168062_a31c28b77c_m.jpg  \n",
      "  inflating: prod/flowers_200_unlabeled/7070694881_e9a331fa4e_n.jpg  \n",
      "  inflating: prod/flowers_200_unlabeled/7145978709_2d1596f462.jpg  \n",
      "  inflating: prod/flowers_200_unlabeled/7166567320_0a2beb6d42.jpg  \n",
      "  inflating: prod/flowers_200_unlabeled/7166626128_8e0983ac8e_n.jpg  \n",
      "  inflating: prod/flowers_200_unlabeled/7243174412_d3628e4cc4_m.jpg  \n",
      "  inflating: prod/flowers_200_unlabeled/7251352826_69b62cba2c_m.jpg  \n",
      "  inflating: prod/flowers_200_unlabeled/7345657862_689366e79a.jpg  \n",
      "  inflating: prod/flowers_200_unlabeled/7538403124_f2fc48750a.jpg  \n",
      "  inflating: prod/flowers_200_unlabeled/7865295712_bcc94d120c.jpg  \n",
      "  inflating: prod/flowers_200_unlabeled/8249000137_eddfffa380_n.jpg  \n",
      "  inflating: prod/flowers_200_unlabeled/8337607102_d9e0fa887e.jpg  \n",
      "  inflating: prod/flowers_200_unlabeled/8481979626_98c9f88848_n.jpg  \n",
      "  inflating: prod/flowers_200_unlabeled/8614237582_74417799f4_m.jpg  \n",
      "  inflating: prod/flowers_200_unlabeled/8647874151_aac8db2588_m.jpg  \n",
      "  inflating: prod/flowers_200_unlabeled/8668974855_8389ecbdca_m.jpg  \n",
      "  inflating: prod/flowers_200_unlabeled/8681388520_c697dee897_n.jpg  \n",
      "  inflating: prod/flowers_200_unlabeled/8710109684_e2c5ef6aeb_n.jpg  \n",
      "  inflating: prod/flowers_200_unlabeled/8713387500_6a9138b41b_n.jpg  \n",
      "  inflating: prod/flowers_200_unlabeled/8716513637_2ba0c4e6cd_n.jpg  \n",
      "  inflating: prod/flowers_200_unlabeled/8926641787_d2515dfe8f_m.jpg  \n",
      "  inflating: prod/flowers_200_unlabeled/8978962053_0727b41d26.jpg  \n",
      "  inflating: prod/flowers_200_unlabeled/898102603_2d5152f09a.jpg  \n",
      "  inflating: prod/flowers_200_unlabeled/9175280426_40ecc395b8_m.jpg  \n",
      "  inflating: prod/flowers_200_unlabeled/9240005603_6a9b71dcea_n.jpg  \n",
      "  inflating: prod/flowers_200_unlabeled/9262004825_710346cde9_n.jpg  \n",
      "  inflating: prod/flowers_200_unlabeled/9309388105_12c0b8dd54_m.jpg  \n",
      "  inflating: prod/flowers_200_unlabeled/9321854387_5f77c926cb_n.jpg  \n",
      "  inflating: prod/flowers_200_unlabeled/9491955955_d0b2c83834.jpg  \n",
      "  inflating: prod/flowers_200_unlabeled/9535500195_543d0b729b.jpg  \n",
      "  inflating: prod/flowers_200_unlabeled/9610371852_179e7781ce.jpg  \n",
      "  inflating: prod/flowers_200_unlabeled/9825716455_f12bcc8d4e_n.jpg  \n"
     ]
    }
   ],
   "source": [
    "!unzip flowers_200_unlabeled.zip -d prod"
   ]
  },
  {
   "cell_type": "code",
   "execution_count": 15,
   "metadata": {},
   "outputs": [
    {
     "name": "stdout",
     "output_type": "stream",
     "text": [
      "201\n"
     ]
    }
   ],
   "source": [
    "!ls -lrth prod/* | wc -l"
   ]
  },
  {
   "cell_type": "code",
   "execution_count": null,
   "metadata": {},
   "outputs": [],
   "source": [
    "!mkdir flowers"
   ]
  },
  {
   "cell_type": "code",
   "execution_count": null,
   "metadata": {},
   "outputs": [],
   "source": [
    "!unzip flowers_200_folders.zip -d flowers"
   ]
  },
  {
   "cell_type": "code",
   "execution_count": null,
   "metadata": {},
   "outputs": [],
   "source": [
    "!gsutil -m cp -r flowers gs://{BUCKET_NAME}/"
   ]
  },
  {
   "cell_type": "code",
   "execution_count": null,
   "metadata": {},
   "outputs": [],
   "source": [
    "BUCKET_NAME"
   ]
  },
  {
   "cell_type": "markdown",
   "metadata": {
    "id": "29dbf432339c"
   },
   "source": [
    "### Check data in Google Cloud Storage\n",
    "\n",
    "After ingesting our data into GCS, it's time to visualize some images to inspect the data."
   ]
  },
  {
   "cell_type": "code",
   "execution_count": null,
   "metadata": {},
   "outputs": [],
   "source": [
    "!gsutil ls -R gs://{BUCKET_NAME}/"
   ]
  },
  {
   "cell_type": "markdown",
   "metadata": {
    "id": "de7be6182813"
   },
   "source": [
    "### END\n",
    "\n",
    "Now you can go to the next notebook `01_exploratory_data_analysis.ipynb`"
   ]
  }
 ],
 "metadata": {
  "colab": {
   "collapsed_sections": [],
   "name": "00_environment_setup.ipynb",
   "toc_visible": true
  },
  "environment": {
   "kernel": "python3",
   "name": "tf2-gpu.2-8.m99",
   "type": "gcloud",
   "uri": "gcr.io/deeplearning-platform-release/tf2-gpu.2-8:m99"
  },
  "kernelspec": {
   "display_name": "Python 3",
   "language": "python",
   "name": "python3"
  },
  "language_info": {
   "codemirror_mode": {
    "name": "ipython",
    "version": 3
   },
   "file_extension": ".py",
   "mimetype": "text/x-python",
   "name": "python",
   "nbconvert_exporter": "python",
   "pygments_lexer": "ipython3",
   "version": "3.7.12"
  }
 },
 "nbformat": 4,
 "nbformat_minor": 4
}
